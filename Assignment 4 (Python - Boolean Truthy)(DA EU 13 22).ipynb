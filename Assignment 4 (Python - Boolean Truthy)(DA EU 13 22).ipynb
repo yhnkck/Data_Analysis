{
 "cells": [
  {
   "cell_type": "code",
   "execution_count": null,
   "id": "42750dfd",
   "metadata": {},
   "outputs": [],
   "source": [
    "# Assignment-4 (Python - Boolean Truthy)(DA EU 13/22)"
   ]
  },
  {
   "cell_type": "code",
   "execution_count": null,
   "id": "0b13f93b",
   "metadata": {},
   "outputs": [],
   "source": [
    "Using the all following items once each, set a correct boolean expression that returns write me. Use the print() function to display the result.\n",
    "\n",
    "\n",
    "0\n",
    "and\n",
    "not\n",
    "\"write me\""
   ]
  },
  {
   "cell_type": "code",
   "execution_count": 1,
   "id": "0bac8688",
   "metadata": {},
   "outputs": [
    {
     "name": "stdout",
     "output_type": "stream",
     "text": [
      "write me\n"
     ]
    }
   ],
   "source": [
    "print(0 or not False and \"write me\")"
   ]
  },
  {
   "cell_type": "code",
   "execution_count": null,
   "id": "ed7f007b",
   "metadata": {},
   "outputs": [],
   "source": []
  },
  {
   "cell_type": "code",
   "execution_count": null,
   "id": "a24b1a24",
   "metadata": {},
   "outputs": [],
   "source": []
  },
  {
   "cell_type": "code",
   "execution_count": null,
   "id": "dcf5479d",
   "metadata": {},
   "outputs": [],
   "source": []
  }
 ],
 "metadata": {
  "kernelspec": {
   "display_name": "Python 3 (ipykernel)",
   "language": "python",
   "name": "python3"
  },
  "language_info": {
   "codemirror_mode": {
    "name": "ipython",
    "version": 3
   },
   "file_extension": ".py",
   "mimetype": "text/x-python",
   "name": "python",
   "nbconvert_exporter": "python",
   "pygments_lexer": "ipython3",
   "version": "3.9.12"
  }
 },
 "nbformat": 4,
 "nbformat_minor": 5
}
