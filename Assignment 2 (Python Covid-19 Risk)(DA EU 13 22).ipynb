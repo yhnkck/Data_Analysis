{
 "cells": [
  {
   "cell_type": "code",
   "execution_count": null,
   "id": "166edd24",
   "metadata": {},
   "outputs": [],
   "source": [
    "Assignment 2 (Python Covid-19 Risk)(DA EU 13 22)"
   ]
  },
  {
   "cell_type": "code",
   "execution_count": null,
   "id": "303764b4",
   "metadata": {},
   "outputs": [],
   "source": [
    "Problem :\n",
    "\n",
    "Task : Estimating the risk of death from coronavirus.\n",
    "\n",
    "Consider the following questions in terms of True/False regarding someone else.\n",
    "\n",
    "Are you a cigarette addict older than 75 years old? Variable → age\n",
    "\n",
    "Do you have a severe chronic disease? Variable → chronic\n",
    "\n",
    "Is your immune system too weak? Variable → immune\n",
    "\n",
    "Set a logical algorithm using boolean logic operators (and/or) and the given variables in order to give us True (there is a risk of death) or False (there is not a risk of death) as a result."
   ]
  },
  {
   "cell_type": "code",
   "execution_count": 1,
   "id": "4d337c36",
   "metadata": {},
   "outputs": [
    {
     "name": "stdout",
     "output_type": "stream",
     "text": [
      "Are you a cigarette addict older than 75 years old? (True/False) True\n",
      "Do you have a severe chronic disease? (True/False) False\n",
      "Is your immune system too weak? (True/False) False\n"
     ]
    }
   ],
   "source": [
    "age = str(input(\"Are you a cigarette addict older than 75 years old? (True/False) \", )).upper()\n",
    "chronic = str(input(\"Do you have a severe chronic disease? (True/False) \", )).upper()\n",
    "immune = str(input(\"Is your immune system too weak? (True/False) \", )).upper()"
   ]
  },
  {
   "cell_type": "code",
   "execution_count": 2,
   "id": "d5f68522",
   "metadata": {},
   "outputs": [],
   "source": [
    "if age == \"TRUE\":\n",
    "  age = True\n",
    "else:\n",
    "  age = False\n",
    "\n",
    "if chronic == \"TRUE\":\n",
    "  chronic = True\n",
    "else:\n",
    "  chronic = False\n",
    "\n",
    "if immune == \"TRUE\":\n",
    "  immune = True\n",
    "else:\n",
    "  immune = False"
   ]
  },
  {
   "cell_type": "code",
   "execution_count": 3,
   "id": "3694c16e",
   "metadata": {},
   "outputs": [
    {
     "name": "stdout",
     "output_type": "stream",
     "text": [
      "False\n"
     ]
    }
   ],
   "source": [
    "risk = bool(age and (chronic or immune))\n",
    "print(risk)"
   ]
  }
 ],
 "metadata": {
  "kernelspec": {
   "display_name": "Python 3 (ipykernel)",
   "language": "python",
   "name": "python3"
  },
  "language_info": {
   "codemirror_mode": {
    "name": "ipython",
    "version": 3
   },
   "file_extension": ".py",
   "mimetype": "text/x-python",
   "name": "python",
   "nbconvert_exporter": "python",
   "pygments_lexer": "ipython3",
   "version": "3.9.12"
  }
 },
 "nbformat": 4,
 "nbformat_minor": 5
}
