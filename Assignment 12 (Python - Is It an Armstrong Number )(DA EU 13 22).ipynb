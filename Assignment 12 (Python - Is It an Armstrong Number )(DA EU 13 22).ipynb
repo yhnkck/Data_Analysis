{
 "cells": [
  {
   "cell_type": "code",
   "execution_count": null,
   "id": "91d2f6a8",
   "metadata": {},
   "outputs": [],
   "source": [
    "Task:\n",
    "\n",
    "Find out if a given number is an \"Armstrong Number\".\n",
    "\n",
    "An n-digit number that is the sum of the nth powers of its digits is called an n-Armstrong number. Examples :\n",
    "371 = 3**3 + 7**3 + 1**3;\n",
    "9474 = 9**4 + 4**4 + 7**4 + 4**4;\n",
    "93084 = 9**5 + 3**5 + 0**5 + 8**5 + 4**5.\n",
    "\n",
    "Write a Python program that;\n",
    "takes a positive integer number from the user,\n",
    "checks the entered number if it is Armstrong,\n",
    "consider the negative, float and any entries other than numeric values then display a warning message to the user."
   ]
  },
  {
   "cell_type": "code",
   "execution_count": 1,
   "id": "f89e7eeb",
   "metadata": {},
   "outputs": [
    {
     "name": "stdout",
     "output_type": "stream",
     "text": [
      "Enter a positive numeric value : 93084\n",
      "93084  is an Armstrong number\n"
     ]
    }
   ],
   "source": [
    "number = input(\"Enter a positive numeric value : \")\n",
    "power = len(number)\n",
    "total = 0\n",
    "if number.startswith(\"-\") or \".\" in number or \",\" in number or (not number.isdigit()):\n",
    "    print(\"Invalid entry. Please don't use negative, float, or non-numeric values!\")\n",
    "else:\n",
    "    for i in number:\n",
    "        total += int(i) ** power\n",
    "    if int(number) == total:\n",
    "        print(number, \" is an Armstrong number\")\n",
    "    else:\n",
    "        print(number, \" is not an Armstrong number\")"
   ]
  },
  {
   "cell_type": "code",
   "execution_count": null,
   "id": "8ae3e626",
   "metadata": {},
   "outputs": [],
   "source": []
  },
  {
   "cell_type": "code",
   "execution_count": 14,
   "id": "caa5b3c8",
   "metadata": {},
   "outputs": [
    {
     "name": "stdout",
     "output_type": "stream",
     "text": [
      "Enter a positive integer number: 371\n",
      "371 is an Amstrong number\n"
     ]
    }
   ],
   "source": [
    "while True :\n",
    "    \n",
    "    number = input(\"Enter a positive integer number: \")\n",
    "    digits = len(number)\n",
    "    sum_ = 0\n",
    "    \n",
    "    if not number.isdigit() :\n",
    "        print(number, \"is invalid entry. Please enter valid input.\")\n",
    "        \n",
    "    elif int(number) >= 0 :\n",
    "        for i in range(digits) :\n",
    "            sum_ = sum_ + int(number[i])**digits\n",
    "            \n",
    "        if sum_ == int(number) :\n",
    "            print(number, \"is an Amstrong number\")\n",
    "            break\n",
    "        else :\n",
    "            print(number, \"is not an Amstrong number\")\n",
    "            break    "
   ]
  },
  {
   "cell_type": "code",
   "execution_count": 1,
   "id": "fcf19dec",
   "metadata": {},
   "outputs": [],
   "source": [
    "sayı = \"1234\""
   ]
  },
  {
   "cell_type": "code",
   "execution_count": 2,
   "id": "930a51c8",
   "metadata": {},
   "outputs": [
    {
     "data": {
      "text/plain": [
       "True"
      ]
     },
     "execution_count": 2,
     "metadata": {},
     "output_type": "execute_result"
    }
   ],
   "source": [
    "sayı.isdigit()"
   ]
  },
  {
   "cell_type": "code",
   "execution_count": 4,
   "id": "7898c9d9",
   "metadata": {},
   "outputs": [
    {
     "data": {
      "text/plain": [
       "False"
      ]
     },
     "execution_count": 4,
     "metadata": {},
     "output_type": "execute_result"
    }
   ],
   "source": [
    "\"-1235\".isdigit()"
   ]
  },
  {
   "cell_type": "code",
   "execution_count": 5,
   "id": "9bdb7459",
   "metadata": {},
   "outputs": [
    {
     "data": {
      "text/plain": [
       "False"
      ]
     },
     "execution_count": 5,
     "metadata": {},
     "output_type": "execute_result"
    }
   ],
   "source": [
    "\"12.55\".isdigit()"
   ]
  },
  {
   "cell_type": "code",
   "execution_count": null,
   "id": "9f509e48",
   "metadata": {},
   "outputs": [],
   "source": []
  },
  {
   "cell_type": "code",
   "execution_count": null,
   "id": "e048310b",
   "metadata": {},
   "outputs": [],
   "source": []
  },
  {
   "cell_type": "code",
   "execution_count": null,
   "id": "a1b2d1b5",
   "metadata": {},
   "outputs": [],
   "source": []
  },
  {
   "cell_type": "code",
   "execution_count": null,
   "id": "71cc04e4",
   "metadata": {},
   "outputs": [],
   "source": []
  },
  {
   "cell_type": "code",
   "execution_count": null,
   "id": "4bb649d1",
   "metadata": {},
   "outputs": [],
   "source": []
  },
  {
   "cell_type": "code",
   "execution_count": null,
   "id": "eee33345",
   "metadata": {},
   "outputs": [],
   "source": []
  },
  {
   "cell_type": "code",
   "execution_count": null,
   "id": "3f21fe61",
   "metadata": {},
   "outputs": [],
   "source": []
  },
  {
   "cell_type": "code",
   "execution_count": null,
   "id": "5e2eac08",
   "metadata": {},
   "outputs": [],
   "source": []
  },
  {
   "cell_type": "code",
   "execution_count": null,
   "id": "845f37ab",
   "metadata": {},
   "outputs": [],
   "source": []
  },
  {
   "cell_type": "code",
   "execution_count": null,
   "id": "94972723",
   "metadata": {},
   "outputs": [],
   "source": []
  }
 ],
 "metadata": {
  "kernelspec": {
   "display_name": "Python 3 (ipykernel)",
   "language": "python",
   "name": "python3"
  },
  "language_info": {
   "codemirror_mode": {
    "name": "ipython",
    "version": 3
   },
   "file_extension": ".py",
   "mimetype": "text/x-python",
   "name": "python",
   "nbconvert_exporter": "python",
   "pygments_lexer": "ipython3",
   "version": "3.9.12"
  }
 },
 "nbformat": 4,
 "nbformat_minor": 5
}
