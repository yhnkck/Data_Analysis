{
 "cells": [
  {
   "cell_type": "code",
   "execution_count": null,
   "id": "2433ddf7",
   "metadata": {},
   "outputs": [],
   "source": [
    "Task : Find out the most frequent number and its frequency.\n",
    "\n",
    "Write a program that;\n",
    "\n",
    "Finds out the most frequent number in the given list.\n",
    "Calculates its frequency.\n",
    "Prints out the result such as :\n",
    "Example\n",
    "Given list\tDesired Output\n",
    "nums = [1, 3, 7, 4, 3, 0, 3, 6, 3]\n",
    "the most frequent number is 3 and it was 4 times repeated"
   ]
  },
  {
   "cell_type": "code",
   "execution_count": 23,
   "id": "920f78b4",
   "metadata": {},
   "outputs": [
    {
     "name": "stdout",
     "output_type": "stream",
     "text": [
      "the most frequent number is 3 and it was 4 times repeated.\n"
     ]
    }
   ],
   "source": [
    "nums = [1, 3, 7, 4, 3, 0, 3, 6, 3]\n",
    "\n",
    "most_common = max(nums, key = nums.count)\n",
    "\n",
    "frequency = nums.count(most_common)\n",
    "\n",
    "print(\"the most frequent number is\", most_common, \"and it was\", frequency, \"times repeated.\")"
   ]
  },
  {
   "cell_type": "code",
   "execution_count": 25,
   "id": "70dea432",
   "metadata": {},
   "outputs": [],
   "source": [
    "nums = [1, 3, 7, 4, 3, 0, 3, 6, 3]"
   ]
  },
  {
   "cell_type": "code",
   "execution_count": 26,
   "id": "3623980c",
   "metadata": {},
   "outputs": [
    {
     "name": "stdout",
     "output_type": "stream",
     "text": [
      "7\n",
      "y\n",
      "35\n"
     ]
    }
   ],
   "source": [
    "print(max(nums))  # iterable \n",
    "print(max(\"clarusway\"))  # str\n",
    "print(max(11, 8, 35))  # int"
   ]
  },
  {
   "cell_type": "code",
   "execution_count": 31,
   "id": "68f8b172",
   "metadata": {},
   "outputs": [
    {
     "name": "stdout",
     "output_type": "stream",
     "text": [
      "7\n",
      "1\n"
     ]
    }
   ],
   "source": [
    "print(max(nums))\n",
    "print(nums.count(7))"
   ]
  },
  {
   "cell_type": "code",
   "execution_count": 32,
   "id": "ec978916",
   "metadata": {},
   "outputs": [
    {
     "data": {
      "text/plain": [
       "1"
      ]
     },
     "execution_count": 32,
     "metadata": {},
     "output_type": "execute_result"
    }
   ],
   "source": [
    "nums.count(max(nums))"
   ]
  },
  {
   "cell_type": "code",
   "execution_count": 43,
   "id": "4afa38fb",
   "metadata": {},
   "outputs": [
    {
     "name": "stdout",
     "output_type": "stream",
     "text": [
      "3\n",
      "4\n"
     ]
    }
   ],
   "source": [
    "maximum = max(nums, key = nums.count)\n",
    "cnt = nums.count(maximum)\n",
    "print(maximum)\n",
    "print(cnt)"
   ]
  },
  {
   "cell_type": "code",
   "execution_count": 45,
   "id": "23df4b17",
   "metadata": {},
   "outputs": [
    {
     "name": "stdout",
     "output_type": "stream",
     "text": [
      "the most frequent number is 3 and it was 4 times repeated.\n"
     ]
    }
   ],
   "source": [
    "print(f\"the most frequent number is\", maximum, \"and it was\", cnt, \"times repeated.\")"
   ]
  },
  {
   "cell_type": "code",
   "execution_count": 46,
   "id": "34fb5caa",
   "metadata": {},
   "outputs": [],
   "source": [
    "şehirler = [\"istanbul\", \"ağrı\", \"ankara\", \"van\"]"
   ]
  },
  {
   "cell_type": "code",
   "execution_count": 49,
   "id": "188559d1",
   "metadata": {},
   "outputs": [
    {
     "data": {
      "text/plain": [
       "['ankara', 'ağrı', 'istanbul', 'van']"
      ]
     },
     "execution_count": 49,
     "metadata": {},
     "output_type": "execute_result"
    }
   ],
   "source": [
    "sorted(şehirler)"
   ]
  },
  {
   "cell_type": "code",
   "execution_count": 53,
   "id": "8d6e1ce7",
   "metadata": {},
   "outputs": [
    {
     "data": {
      "text/plain": [
       "['van', 'ağrı', 'ankara', 'istanbul']"
      ]
     },
     "execution_count": 53,
     "metadata": {},
     "output_type": "execute_result"
    }
   ],
   "source": [
    "sorted(şehirler, key = len)"
   ]
  },
  {
   "cell_type": "code",
   "execution_count": 54,
   "id": "e4b39307",
   "metadata": {},
   "outputs": [
    {
     "data": {
      "text/plain": [
       "['istanbul', 'ankara', 'ağrı', 'van']"
      ]
     },
     "execution_count": 54,
     "metadata": {},
     "output_type": "execute_result"
    }
   ],
   "source": [
    "sorted(şehirler, key = len, reverse = True)"
   ]
  },
  {
   "cell_type": "code",
   "execution_count": null,
   "id": "fa845093",
   "metadata": {},
   "outputs": [],
   "source": []
  },
  {
   "cell_type": "code",
   "execution_count": null,
   "id": "54dd1f0d",
   "metadata": {},
   "outputs": [],
   "source": []
  }
 ],
 "metadata": {
  "kernelspec": {
   "display_name": "Python 3 (ipykernel)",
   "language": "python",
   "name": "python3"
  },
  "language_info": {
   "codemirror_mode": {
    "name": "ipython",
    "version": 3
   },
   "file_extension": ".py",
   "mimetype": "text/x-python",
   "name": "python",
   "nbconvert_exporter": "python",
   "pygments_lexer": "ipython3",
   "version": "3.9.12"
  }
 },
 "nbformat": 4,
 "nbformat_minor": 5
}
