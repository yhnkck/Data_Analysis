{
 "cells": [
  {
   "cell_type": "code",
   "execution_count": null,
   "id": "e3ae7d11",
   "metadata": {},
   "outputs": [],
   "source": [
    "## Assignment-1 (Python - Profit Calculator)(DA EU 13/22)"
   ]
  },
  {
   "cell_type": "code",
   "execution_count": null,
   "id": "a6e6cdc7",
   "metadata": {},
   "outputs": [],
   "source": [
    "## Problem : If you had deposited a coin on the cryptocurrency exchange that brought 7% fixed profit daily for a week, how much would your $ 1000 reach at the end of the 7th day?"
   ]
  },
  {
   "cell_type": "code",
   "execution_count": 2,
   "id": "c83d4d1b",
   "metadata": {},
   "outputs": [
    {
     "name": "stdout",
     "output_type": "stream",
     "text": [
      "initial_capital: 1000\n",
      "day: 7\n",
      "interest_rate: 7\n"
     ]
    }
   ],
   "source": [
    "A = int(input(\"initial_capital: \", ))\n",
    "n = int(input(\"day: \", ))\n",
    "i = int(input(\"interest_rate: \", ))"
   ]
  },
  {
   "cell_type": "code",
   "execution_count": 3,
   "id": "56d48b62",
   "metadata": {},
   "outputs": [
    {
     "name": "stdout",
     "output_type": "stream",
     "text": [
      "1605.7814764784307\n"
     ]
    }
   ],
   "source": [
    "profit_rate = ((1 + i/100)**n)\n",
    "print(A*profit_rate)"
   ]
  },
  {
   "cell_type": "code",
   "execution_count": null,
   "id": "2e36e482",
   "metadata": {},
   "outputs": [],
   "source": []
  },
  {
   "cell_type": "code",
   "execution_count": null,
   "id": "953e4768",
   "metadata": {},
   "outputs": [],
   "source": []
  },
  {
   "cell_type": "code",
   "execution_count": null,
   "id": "462f6b63",
   "metadata": {},
   "outputs": [],
   "source": []
  }
 ],
 "metadata": {
  "kernelspec": {
   "display_name": "Python 3 (ipykernel)",
   "language": "python",
   "name": "python3"
  },
  "language_info": {
   "codemirror_mode": {
    "name": "ipython",
    "version": 3
   },
   "file_extension": ".py",
   "mimetype": "text/x-python",
   "name": "python",
   "nbconvert_exporter": "python",
   "pygments_lexer": "ipython3",
   "version": "3.9.12"
  }
 },
 "nbformat": 4,
 "nbformat_minor": 5
}
