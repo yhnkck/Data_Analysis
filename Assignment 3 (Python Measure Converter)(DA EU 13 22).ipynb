{
 "cells": [
  {
   "cell_type": "code",
   "execution_count": null,
   "id": "e6525724",
   "metadata": {},
   "outputs": [],
   "source": [
    "# Assignment-3 (Python - Measure Converter)(DA EU 13/22)"
   ]
  },
  {
   "cell_type": "code",
   "execution_count": null,
   "id": "defb31da",
   "metadata": {},
   "outputs": [],
   "source": [
    "Task-1:\n",
    "\n",
    "Write a short Python program that asks the user to enter Celsius temperature (it can be a decimal number), converts the entered temperature into Fahrenheit degree and prints the result."
   ]
  },
  {
   "cell_type": "code",
   "execution_count": 1,
   "id": "b02b56c3",
   "metadata": {},
   "outputs": [
    {
     "name": "stdout",
     "output_type": "stream",
     "text": [
      "Enter celsius temperature: 40\n"
     ]
    }
   ],
   "source": [
    "celsius = input(\"Enter celsius temperature: \" )"
   ]
  },
  {
   "cell_type": "code",
   "execution_count": 2,
   "id": "ac562a36",
   "metadata": {},
   "outputs": [
    {
     "name": "stdout",
     "output_type": "stream",
     "text": [
      "104.0\n"
     ]
    }
   ],
   "source": [
    "print(int(celsius)*1.8 + 32)"
   ]
  },
  {
   "cell_type": "code",
   "execution_count": null,
   "id": "ceaf1cb1",
   "metadata": {},
   "outputs": [],
   "source": [
    "Task-2:\n",
    "Write a short Python program that asks the user to enter a distance (it can be a decimal number) in kilometers, converts the entered distance into miles and prints the result."
   ]
  },
  {
   "cell_type": "code",
   "execution_count": 3,
   "id": "762bc7b7",
   "metadata": {},
   "outputs": [
    {
     "name": "stdout",
     "output_type": "stream",
     "text": [
      "Enter distance value: 1000\n"
     ]
    }
   ],
   "source": [
    "distance = input(\"Enter distance value: \" )"
   ]
  },
  {
   "cell_type": "code",
   "execution_count": 4,
   "id": "4ec30bd9",
   "metadata": {},
   "outputs": [
    {
     "name": "stdout",
     "output_type": "stream",
     "text": [
      "621.37\n"
     ]
    }
   ],
   "source": [
    "print(int(distance)*0.62137)"
   ]
  },
  {
   "cell_type": "code",
   "execution_count": null,
   "id": "c48acffe",
   "metadata": {},
   "outputs": [],
   "source": []
  }
 ],
 "metadata": {
  "kernelspec": {
   "display_name": "Python 3 (ipykernel)",
   "language": "python",
   "name": "python3"
  },
  "language_info": {
   "codemirror_mode": {
    "name": "ipython",
    "version": 3
   },
   "file_extension": ".py",
   "mimetype": "text/x-python",
   "name": "python",
   "nbconvert_exporter": "python",
   "pygments_lexer": "ipython3",
   "version": "3.9.12"
  }
 },
 "nbformat": 4,
 "nbformat_minor": 5
}
