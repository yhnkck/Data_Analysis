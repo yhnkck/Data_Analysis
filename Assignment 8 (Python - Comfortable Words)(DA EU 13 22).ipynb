{
 "cells": [
  {
   "cell_type": "code",
   "execution_count": null,
   "id": "10784bc4",
   "metadata": {},
   "outputs": [],
   "source": [
    "Task : Find out if the given word is \"comfortable words\" in relation to the ten-finger keyboard use.\n",
    "\n",
    "A comfortable word is a word which you can type always alternating the hand you type with (assuming you type using a Q-keyboard and use of the ten-fingers standard).\n",
    "The word will always be a string consisting of only letters from a to z.\n",
    "Write a program which returns True if it's a comfortable word or False otherwise."
   ]
  },
  {
   "cell_type": "code",
   "execution_count": 44,
   "id": "7978252d",
   "metadata": {},
   "outputs": [
    {
     "name": "stdout",
     "output_type": "stream",
     "text": [
      "Write a word: astar\n",
      "False\n"
     ]
    }
   ],
   "source": [
    "left = {\"q\", \"w\", \"e\", \"r\", \"t\", \"a\", \"s\", \"d\", \"f\", \"g\", \"z\", \"x\", \"c\", \"v\", \"b\"}\n",
    "right = {\"y\", \"u\", \"i\", \"o\", \"p\", \"h\", \"j\", \"k\", \"l\", \"n\", \"m\"}\n",
    "com_word = set(input(\"Write a word: \").lower())\n",
    "if com_word & left == com_word or com_word & right == com_word : \n",
    "    print (\"False\")\n",
    "else: \n",
    "    print(\"True\")"
   ]
  },
  {
   "cell_type": "code",
   "execution_count": null,
   "id": "46bc3b3a",
   "metadata": {},
   "outputs": [],
   "source": []
  },
  {
   "cell_type": "code",
   "execution_count": null,
   "id": "0562dce4",
   "metadata": {},
   "outputs": [],
   "source": []
  },
  {
   "cell_type": "code",
   "execution_count": null,
   "id": "a29496cc",
   "metadata": {},
   "outputs": [],
   "source": []
  },
  {
   "cell_type": "code",
   "execution_count": null,
   "id": "8a2e9a4f",
   "metadata": {},
   "outputs": [],
   "source": []
  },
  {
   "cell_type": "code",
   "execution_count": null,
   "id": "3663579e",
   "metadata": {},
   "outputs": [],
   "source": []
  },
  {
   "cell_type": "code",
   "execution_count": null,
   "id": "8b2402b7",
   "metadata": {},
   "outputs": [],
   "source": []
  },
  {
   "cell_type": "code",
   "execution_count": null,
   "id": "083dd573",
   "metadata": {},
   "outputs": [],
   "source": []
  }
 ],
 "metadata": {
  "kernelspec": {
   "display_name": "Python 3 (ipykernel)",
   "language": "python",
   "name": "python3"
  },
  "language_info": {
   "codemirror_mode": {
    "name": "ipython",
    "version": 3
   },
   "file_extension": ".py",
   "mimetype": "text/x-python",
   "name": "python",
   "nbconvert_exporter": "python",
   "pygments_lexer": "ipython3",
   "version": "3.9.12"
  }
 },
 "nbformat": 4,
 "nbformat_minor": 5
}
