{
 "cells": [
  {
   "cell_type": "code",
   "execution_count": null,
   "id": "305dc058",
   "metadata": {},
   "outputs": [],
   "source": [
    "Task:\n",
    "\n",
    "Find out if a given year is a \"leap\" year.\n",
    "\n",
    "In the Gregorian calendar, three criteria must be taken into account to identify leap years:\n",
    "The year must be evenly divisible by 4;\n",
    "If the year can also be evenly divided by 100, it is not a leap year; unless...\n",
    "The year is also evenly divisible by 400. Then it is a leap year.\n",
    "According to these rules, the years 2000 and 2400 are leap years, while 1800, 1900, 2100, 2200, 2300, and 2500 are not the leap years.\n",
    "Write a Python program that prints such as \"2020 is a leap year\" if the given year by the user is a leap year, prints such as \"2019 is not a leap year\" otherwise."
   ]
  },
  {
   "cell_type": "code",
   "execution_count": 61,
   "id": "620fd617",
   "metadata": {},
   "outputs": [
    {
     "name": "stdout",
     "output_type": "stream",
     "text": [
      "Enter year :2100\n",
      "2100 is not a leap year.\n"
     ]
    }
   ],
   "source": [
    "year = int(input(\"Enter year :\"))\n",
    "\n",
    "if year % 400 == 0 or year % 100 != 0 and year % 4 == 0 :\n",
    "        print(f\"{year} is a leap year.\")\n",
    "else :\n",
    "    print(f\"{year} is not a leap year.\")"
   ]
  },
  {
   "cell_type": "code",
   "execution_count": 2,
   "id": "8720e94f",
   "metadata": {},
   "outputs": [
    {
     "name": "stdout",
     "output_type": "stream",
     "text": [
      "Enter year :2500\n",
      "2500 is not a leap year.\n"
     ]
    }
   ],
   "source": [
    "year = int(input(\"Enter year :\"))\n",
    "\n",
    "if year % 100 != 0 and year % 4 == 0 :\n",
    "        print(f\"{year} is a leap year.\")\n",
    "elif year % 100 == 0 and year % 400 == 0 :\n",
    "    print(f\"{year} is a leap year.\")\n",
    "else :\n",
    "    print(f\"{year} is not a leap year.\")"
   ]
  },
  {
   "cell_type": "code",
   "execution_count": null,
   "id": "a9b1ee37",
   "metadata": {},
   "outputs": [],
   "source": []
  },
  {
   "cell_type": "code",
   "execution_count": null,
   "id": "5e2335b1",
   "metadata": {},
   "outputs": [],
   "source": []
  },
  {
   "cell_type": "code",
   "execution_count": null,
   "id": "bddb71ae",
   "metadata": {},
   "outputs": [],
   "source": []
  },
  {
   "cell_type": "code",
   "execution_count": null,
   "id": "0b75269b",
   "metadata": {},
   "outputs": [],
   "source": []
  },
  {
   "cell_type": "code",
   "execution_count": null,
   "id": "ce988a7a",
   "metadata": {},
   "outputs": [],
   "source": []
  },
  {
   "cell_type": "code",
   "execution_count": null,
   "id": "84fa17a0",
   "metadata": {},
   "outputs": [],
   "source": []
  }
 ],
 "metadata": {
  "kernelspec": {
   "display_name": "Python 3 (ipykernel)",
   "language": "python",
   "name": "python3"
  },
  "language_info": {
   "codemirror_mode": {
    "name": "ipython",
    "version": 3
   },
   "file_extension": ".py",
   "mimetype": "text/x-python",
   "name": "python",
   "nbconvert_exporter": "python",
   "pygments_lexer": "ipython3",
   "version": "3.9.12"
  }
 },
 "nbformat": 4,
 "nbformat_minor": 5
}
