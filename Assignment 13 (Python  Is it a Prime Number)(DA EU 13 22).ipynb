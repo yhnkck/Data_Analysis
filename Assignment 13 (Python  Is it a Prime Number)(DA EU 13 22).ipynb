{
 "cells": [
  {
   "cell_type": "code",
   "execution_count": null,
   "id": "9fcca3a8",
   "metadata": {},
   "outputs": [],
   "source": [
    "Task : Write a program that takes a number from the user and prints the result to check if it is a prime number.\n",
    "A prime number is a whole number greater than 1 whose only factors are 1 and itself. \n",
    "A factor is a whole numbers that can be divided evenly into another number."
   ]
  },
  {
   "cell_type": "code",
   "execution_count": 9,
   "id": "3af18b00",
   "metadata": {},
   "outputs": [
    {
     "name": "stdout",
     "output_type": "stream",
     "text": [
      "Enter a number to check if it is a prime number : 101\n",
      "101 is a prime number\n"
     ]
    }
   ],
   "source": [
    "n = int(input('Enter a number to check if it is a prime number : '))\n",
    "if n > 1:\n",
    "    for i in range(2, int(n//2)+1):\n",
    "        if (n % i) == 0:\n",
    "            print(n, \"is not a prime number\")\n",
    "            break\n",
    "    else:\n",
    "        print(n, \"is a prime number\")\n",
    "else:\n",
    "    print(n, \"is not a prime number\")"
   ]
  },
  {
   "cell_type": "code",
   "execution_count": 4,
   "id": "95e7f6eb",
   "metadata": {},
   "outputs": [
    {
     "name": "stdout",
     "output_type": "stream",
     "text": [
      "Enter a number to check if it is a prime number : 197\n",
      "197 is a prime number \n"
     ]
    }
   ],
   "source": [
    "# Write a program that takes a number from the user and prints the result to check if it is a prime number.\n",
    "n = int(input('Enter a number to check if it is a prime number : '))\n",
    "counter = 0\n",
    "for i in range(1, n+1):\n",
    "    if n % i == 0 : \n",
    "        counter += 1\n",
    "    else : \n",
    "        counter += 0\n",
    "if (n == 0) or (n == 1) or counter < 3 : \n",
    "    print('{} is a prime number '.format(n))\n",
    "else : \n",
    "    print('{} is NOT a prime number'.format(n))"
   ]
  },
  {
   "cell_type": "code",
   "execution_count": null,
   "id": "f309942d",
   "metadata": {},
   "outputs": [],
   "source": []
  },
  {
   "cell_type": "code",
   "execution_count": null,
   "id": "4d3a1f81",
   "metadata": {},
   "outputs": [],
   "source": []
  },
  {
   "cell_type": "code",
   "execution_count": null,
   "id": "ed0dc1f6",
   "metadata": {},
   "outputs": [],
   "source": []
  }
 ],
 "metadata": {
  "kernelspec": {
   "display_name": "Python 3 (ipykernel)",
   "language": "python",
   "name": "python3"
  },
  "language_info": {
   "codemirror_mode": {
    "name": "ipython",
    "version": 3
   },
   "file_extension": ".py",
   "mimetype": "text/x-python",
   "name": "python",
   "nbconvert_exporter": "python",
   "pygments_lexer": "ipython3",
   "version": "3.9.12"
  }
 },
 "nbformat": 4,
 "nbformat_minor": 5
}
